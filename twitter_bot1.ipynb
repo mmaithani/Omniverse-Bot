{
  "nbformat": 4,
  "nbformat_minor": 0,
  "metadata": {
    "colab": {
      "name": "twitter bot1.ipynb",
      "provenance": [],
      "private_outputs": true,
      "collapsed_sections": [],
      "toc_visible": true,
      "authorship_tag": "ABX9TyM8pC4HgvcL4/53RdqmzEwi",
      "include_colab_link": true
    },
    "kernelspec": {
      "name": "python3",
      "display_name": "Python 3"
    }
  },
  "cells": [
    {
      "cell_type": "markdown",
      "metadata": {
        "id": "view-in-github",
        "colab_type": "text"
      },
      "source": [
        "<a href=\"https://colab.research.google.com/github/mmaithani/Omniverse-Bot/blob/main/twitter_bot1.ipynb\" target=\"_parent\"><img src=\"https://colab.research.google.com/assets/colab-badge.svg\" alt=\"Open In Colab\"/></a>"
      ]
    },
    {
      "cell_type": "code",
      "metadata": {
        "id": "AaQcXBwwM3SX"
      },
      "source": [
        "import tweepy\n",
        "from time import sleep\n",
        "import tweepy\n",
        "import random\n",
        "from time import sleep\n",
        "from keys import *\n",
        "from keys import *\n",
        "import pandas as pd\n",
        "\n",
        "auth = tweepy.OAuthHandler(consumer_key, consumer_secret)\n",
        "auth.set_access_token(access_token, access_token_secret)\n",
        "api = tweepy.API(auth,wait_on_rate_limit=True)\n",
        "username = 'jack'\n",
        "count = 150\n",
        "try:     \n",
        " # Creation of query method using parameters\n",
        " tweets = tweepy.Cursor(api.user_timeline,id=username).items(count)\n",
        " \n",
        " # Pulling information from tweets iterable object\n",
        " tweets_list = [[tweet.created_at, tweet.id, tweet.text] for tweet in tweets]\n",
        " \n",
        " # Creation of dataframe from tweets list\n",
        " # Add or remove columns as you remove tweet information\n",
        " tweets_df = pd.DataFrame(tweets_list)\n",
        "except BaseException as e:\n",
        "      print('failed on_status,',str(e))\n",
        "      time.sleep(3)"
      ],
      "execution_count": null,
      "outputs": []
    },
    {
      "cell_type": "code",
      "metadata": {
        "id": "Owyw_lOGOYjL"
      },
      "source": [
        "\n",
        "# tweets_df.head()"
      ],
      "execution_count": null,
      "outputs": []
    },
    {
      "cell_type": "code",
      "metadata": {
        "id": "Kxvbd-6HRdWP"
      },
      "source": [
        "# api.trends_available()"
      ],
      "execution_count": null,
      "outputs": []
    },
    {
      "cell_type": "code",
      "metadata": {
        "id": "KjcCO2qjSAir"
      },
      "source": [
        "# pip install geocoder"
      ],
      "execution_count": null,
      "outputs": []
    },
    {
      "cell_type": "code",
      "metadata": {
        "id": "5LJS2VKfUBRo"
      },
      "source": [
        "import sys\n",
        "import tweepy\n",
        "import json\n",
        " \n",
        "# Where On Earth ID for worldwide is 1.\n",
        "INDIA_WOE_ID = 1\n",
        "\n",
        "india_trends = api.trends_place(INDIA_WOE_ID)\n",
        "print(india_trends[0][\"trends\"])"
      ],
      "execution_count": null,
      "outputs": []
    },
    {
      "cell_type": "code",
      "metadata": {
        "id": "zGpRWlYLZs3R"
      },
      "source": [
        "q=india_trends[0][\"trends\"][0][\"name\"]\n",
        "print(india_trends[0][\"trends\"][0][\"name\"])"
      ],
      "execution_count": null,
      "outputs": []
    },
    {
      "cell_type": "code",
      "metadata": {
        "id": "aUjfufFAmV3l"
      },
      "source": [
        "india_trends = api.trends_place(INDIA_WOE_ID)\n",
        "for i in range(5):\n",
        "  print(india_trends[0][\"trends\"][i][\"name\"])"
      ],
      "execution_count": null,
      "outputs": []
    },
    {
      "cell_type": "markdown",
      "metadata": {
        "id": "udPov_XucP3v"
      },
      "source": [
        "# Main Tweeter bot cuurently in use"
      ]
    },
    {
      "cell_type": "code",
      "metadata": {
        "id": "IHrqKdEnMWCj"
      },
      "source": [
        "import tweepy\n",
        "import random\n",
        "from time import sleep\n",
        "from keys import *\n",
        "\n",
        "auth = tweepy.OAuthHandler(consumer_key, consumer_secret)\n",
        "auth.set_access_token(access_token, access_token_secret)\n",
        "api = tweepy.API(auth,wait_on_rate_limit=True)\n",
        "\n",
        "# Where q='#example', change #example to whatever hashtag or keyword you want to search.\n",
        "# Where items(5), change 5 to the amount of retweets you want to tweet.\n",
        "  \n",
        "# Where On Earth ID for india is 23424848.\n",
        "\n",
        "numberList = [23424848,1,23424975]\n",
        "\n",
        "while True:\n",
        "\n",
        "\n",
        "    WOE_ID=random.choice(numberList)\n",
        "\n",
        "    india_trends = api.trends_place(WOE_ID)\n",
        "    \n",
        "    for i in range(10):\n",
        "      hash = india_trends[0][\"trends\"][i][\"name\"]\n",
        "      print(\"tweeting -> \",hash)\n",
        "\n",
        "      for tweet in tweepy.Cursor(api.search, q=hash).items(1):\n",
        "          try:\n",
        "              print('\\nRetweet Bot found--| ',WOE_ID,\"->\",hash,' |-- tweet by @' + tweet.user.screen_name + '. ' + 'Attempting to retweet.')\n",
        "            \n",
        "              tweet.favorite()\n",
        "              tweet.retweet()\n",
        "              print(\"successfull !\")\n",
        "              sleep(3)\n",
        "          except tweepy.TweepError as error:\n",
        "                        print('\\nError. Not successful. Reason: ')\n",
        "                        print(error.reason)\n",
        "          except:\n",
        "            continue"
      ],
      "execution_count": null,
      "outputs": []
    },
    {
      "cell_type": "code",
      "metadata": {
        "id": "WpF2iJ7uhv0P"
      },
      "source": [
        "\n",
        "numberList = [23424848,1,23424975]\n",
        "\n",
        "for i in range(50):\n",
        "    \n",
        "    WOE_ID=random.choice(numberList)\n",
        "\n",
        "    india_trends = api.trends_place(WOE_ID)\n",
        "    for i in range(10):\n",
        "      hash = india_trends[0][\"trends\"][i][\"name\"]\n",
        "      print(\"tweeting -> \",hash)\n",
        "      for tweet in tweepy.Cursor(api.search, q=hash,result_type=\"popular\").items(1):\n",
        "          try:\n",
        "              print('\\nRetweet Bot found--| ',WOE_ID,\"->\",hash,' |-- tweet by @' + tweet.user.screen_name + '. ' + 'Attempting to retweet.')\n",
        "          except tweepy.TweepError as error:\n",
        "                        print('\\nError. Not successful. Reason: ')\n",
        "                        print(error.reason)"
      ],
      "execution_count": null,
      "outputs": []
    },
    {
      "cell_type": "code",
      "metadata": {
        "id": "ZQuA09T7re2p"
      },
      "source": [
        "numberList = [23424848,1,23424975]\n",
        "\n",
        "for i in range(50):\n",
        "    \n",
        "    WOE_ID=random.choice(numberList)\n",
        "\n",
        "    india_trends = api.trends_place(WOE_ID)\n",
        "    for i in range(10):\n",
        "      hash = india_trends[0][\"trends\"][i][\"name\"]\n",
        "      print(\"tweeting -> \",hash)"
      ],
      "execution_count": null,
      "outputs": []
    },
    {
      "cell_type": "code",
      "metadata": {
        "id": "8jr6r17ho5f6"
      },
      "source": [
        "api.search(q='keyword')\n"
      ],
      "execution_count": null,
      "outputs": []
    },
    {
      "cell_type": "code",
      "metadata": {
        "id": "GNVEevDkqxmT"
      },
      "source": [
        "import tweepy\n",
        "import random\n",
        "from time import sleep\n",
        "from keys import *\n",
        "\n",
        "auth = tweepy.OAuthHandler(consumer_key, consumer_secret)\n",
        "auth.set_access_token(access_token, access_token_secret)\n",
        "api = tweepy.API(auth,wait_on_rate_limit=True,timeout=150,retry_count=5)\n",
        "\n",
        "# Where q='#example', change #example to whatever hashtag or keyword you want to search.\n",
        "# Where items(5), change 5 to the amount of retweets you want to tweet.\n",
        "\n",
        "# Where On Earth ID for india is 23424848.\n",
        "\n",
        "numberList = [23424848,1,23424975]\n",
        "\n",
        "while True:\n",
        "\n",
        "\n",
        "    WOE_ID=random.choice(numberList)\n",
        "\n",
        "    india_trends = api.trends_place(WOE_ID)\n",
        "\n",
        "    for i in range(5):\n",
        "      hashtag = india_trends[0][\"trends\"][i][\"name\"]\n",
        "      print(\"tweeting -> \",hashtag)\n",
        "\n",
        "      for tweet in tweepy.Cursor(api.search, q=hashtag,result_type=\"popular\").items(10):\n",
        "          try:\n",
        "              print('Retweet Bot found--| ',WOE_ID,\"->\",hashtag,' |-- tweet by @' + tweet.user.screen_name + '. ' + 'Attempting to retweet.')\n",
        "\n",
        "              tweet.favorite()\n",
        "              tweet.retweet()\n",
        "              print(\"Successfull !\\n\")\n",
        "              time.sleep(70)\n",
        "\n",
        "          except tweepy.TweepError as error:\n",
        "                        print('Not successful. Reason: ')\n",
        "                        print(error.reason,\"\\n\")\n",
        "                        time.sleep(300)\n",
        "          except:\n",
        "            continue"
      ],
      "execution_count": null,
      "outputs": []
    },
    {
      "cell_type": "code",
      "metadata": {
        "id": "iC8fPwrVqy_V"
      },
      "source": [
        ""
      ],
      "execution_count": null,
      "outputs": []
    }
  ]
}