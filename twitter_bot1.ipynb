{
  "nbformat": 4,
  "nbformat_minor": 0,
  "metadata": {
    "colab": {
      "name": "twitter bot1.ipynb",
      "provenance": [],
      "private_outputs": true,
      "authorship_tag": "ABX9TyNPLGlQKoUWplIvMHy1ZBco",
      "include_colab_link": true
    },
    "kernelspec": {
      "name": "python3",
      "display_name": "Python 3"
    }
  },
  "cells": [
    {
      "cell_type": "markdown",
      "metadata": {
        "id": "view-in-github",
        "colab_type": "text"
      },
      "source": [
        "<a href=\"https://colab.research.google.com/github/mmaithani/Omniverse-Bot/blob/main/twitter_bot1.ipynb\" target=\"_parent\"><img src=\"https://colab.research.google.com/assets/colab-badge.svg\" alt=\"Open In Colab\"/></a>"
      ]
    },
    {
      "cell_type": "code",
      "metadata": {
        "id": "RjM3f2jzMT-y"
      },
      "source": [
        "pip install scrapereads"
      ],
      "execution_count": null,
      "outputs": []
    },
    {
      "cell_type": "code",
      "metadata": {
        "id": "DNudJ4FDNGF3"
      },
      "source": [
        "!git clone \"https://github.com/arthurdjn/scrape-goodreads\"\n",
        "!cd scrape-goodreads\n",
        "!pip install ."
      ],
      "execution_count": null,
      "outputs": []
    },
    {
      "cell_type": "code",
      "metadata": {
        "id": "AaQcXBwwM3SX"
      },
      "source": [
        "import tweepy\n",
        "from time import sleep\n",
        "\n",
        "from keys import *\n",
        "import pandas as pd\n",
        "\n",
        "auth = tweepy.OAuthHandler(consumer_key, consumer_secret)\n",
        "auth.set_access_token(access_token, access_token_secret)\n",
        "api = tweepy.API(auth)\n",
        "\n",
        "username = 'jack'\n",
        "count = 150\n",
        "try:     \n",
        " # Creation of query method using parameters\n",
        " tweets = tweepy.Cursor(api.user_timeline,id=username).items(count)\n",
        " \n",
        " # Pulling information from tweets iterable object\n",
        " tweets_list = [[tweet.created_at, tweet.id, tweet.text] for tweet in tweets]\n",
        " \n",
        " # Creation of dataframe from tweets list\n",
        " # Add or remove columns as you remove tweet information\n",
        " tweets_df = pd.DataFrame(tweets_list)\n",
        "except BaseException as e:\n",
        "      print('failed on_status,',str(e))\n",
        "      time.sleep(3)"
      ],
      "execution_count": null,
      "outputs": []
    },
    {
      "cell_type": "code",
      "metadata": {
        "id": "Owyw_lOGOYjL"
      },
      "source": [
        "tweets_df.head()"
      ],
      "execution_count": null,
      "outputs": []
    },
    {
      "cell_type": "code",
      "metadata": {
        "id": "och0ZLaFRpBr"
      },
      "source": [
        ""
      ],
      "execution_count": null,
      "outputs": []
    },
    {
      "cell_type": "code",
      "metadata": {
        "id": "Kxvbd-6HRdWP"
      },
      "source": [
        "api.trends_available()"
      ],
      "execution_count": null,
      "outputs": []
    },
    {
      "cell_type": "code",
      "metadata": {
        "id": "KjcCO2qjSAir"
      },
      "source": [
        "pip install geocoder"
      ],
      "execution_count": null,
      "outputs": []
    },
    {
      "cell_type": "code",
      "metadata": {
        "id": "c6uu4Ko1ShiB"
      },
      "source": [
        "import json,sys,geocoder\n",
        "# if __name__ == \"__main__\":\n",
        "# Available Locations\n",
        "available_loc = api.trends_available()\n",
        "\n",
        "\n",
        "# Trends for Specific Country\n",
        "loc = sys.argv[1]     # location as argument variable \n",
        "g = geocoder.osm(loc) # getting object that has location's latitude and longitude\n",
        "\n",
        "closest_loc = api.trends_closest(g.lat, g.lng)\n",
        "trends = api.trends_place(closest_loc[0]['woeid'])\n",
        "    # writing a JSON file that has the latest trends for that location\n",
        "print(trends[0])"
      ],
      "execution_count": null,
      "outputs": []
    },
    {
      "cell_type": "code",
      "metadata": {
        "id": "5LJS2VKfUBRo"
      },
      "source": [
        "import sys\n",
        "import tweepy\n",
        "import json\n",
        " \n",
        "# Where On Earth ID for Brazil is 23424768.\n",
        "INDIA_WOE_ID = 23424848\n",
        " \n",
        "india_trends = api.trends_place(INDIA_WOE_ID)\n",
        " "
      ],
      "execution_count": null,
      "outputs": []
    },
    {
      "cell_type": "code",
      "metadata": {
        "id": "zGpRWlYLZs3R"
      },
      "source": [
        "q=india_trends[0][\"trends\"][0][\"name\"]\n",
        "print(india_trends[0][\"trends\"][0][\"name\"])"
      ],
      "execution_count": null,
      "outputs": []
    },
    {
      "cell_type": "code",
      "metadata": {
        "id": "IHrqKdEnMWCj"
      },
      "source": [
        "import tweepy\n",
        "from time import sleep\n",
        "\n",
        "from keys import *\n",
        "\n",
        "auth = tweepy.OAuthHandler(consumer_key, consumer_secret)\n",
        "auth.set_access_token(access_token, access_token_secret)\n",
        "api = tweepy.API(auth)\n",
        "\n",
        "# Where q='#example', change #example to whatever hashtag or keyword you want to search.\n",
        "# Where items(5), change 5 to the amount of retweets you want to tweet.\n",
        "# Make sure you read Twitter's rules on automation - don't spam!\n",
        "\n",
        "while True:\n",
        "    for tweet in tweepy.Cursor(api.search, q).items(5):\n",
        "        try:\n",
        "            print('\\nRetweet Bot found tweet by @' + tweet.user.screen_name + '. ' + 'Attempting to retweet.')\n",
        "\n",
        "            tweet.favorite()\n",
        "            tweet.retweet()\n",
        "\n",
        "            sleep(10)\n",
        "\n",
        "        except tweepy.TweepError as error:\n",
        "            print('\\nError. Retweet not successful. Reason: ')\n",
        "            print(error.reason)\n",
        "\n",
        "        except: continue"
      ],
      "execution_count": null,
      "outputs": []
    },
    {
      "cell_type": "code",
      "metadata": {
        "id": "0_sm0GP1Mp7X"
      },
      "source": [
        ""
      ],
      "execution_count": null,
      "outputs": []
    }
  ]
}